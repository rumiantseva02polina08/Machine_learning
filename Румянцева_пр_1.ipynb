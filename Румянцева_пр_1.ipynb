{
  "nbformat": 4,
  "nbformat_minor": 0,
  "metadata": {
    "colab": {
      "provenance": [],
      "authorship_tag": "ABX9TyML0C3RKHmttLAceZTMlSLp",
      "include_colab_link": true
    },
    "kernelspec": {
      "name": "python3",
      "display_name": "Python 3"
    },
    "language_info": {
      "name": "python"
    }
  },
  "cells": [
    {
      "cell_type": "markdown",
      "metadata": {
        "id": "view-in-github",
        "colab_type": "text"
      },
      "source": [
        "<a href=\"https://colab.research.google.com/github/rumiantseva02polina08/Machine_learning/blob/main/%D0%A0%D1%83%D0%BC%D1%8F%D0%BD%D1%86%D0%B5%D0%B2%D0%B0_%D0%BF%D1%80_1.ipynb\" target=\"_parent\"><img src=\"https://colab.research.google.com/assets/colab-badge.svg\" alt=\"Open In Colab\"/></a>"
      ]
    },
    {
      "cell_type": "code",
      "execution_count": 1,
      "metadata": {
        "colab": {
          "base_uri": "https://localhost:8080/",
          "height": 36
        },
        "id": "gd42RVypX4KR",
        "outputId": "484be833-bb51-44cb-cc81-fa5f447fad4c"
      },
      "outputs": [
        {
          "output_type": "execute_result",
          "data": {
            "text/plain": [
              "'2.0.2'"
            ],
            "application/vnd.google.colaboratory.intrinsic+json": {
              "type": "string"
            }
          },
          "metadata": {},
          "execution_count": 1
        }
      ],
      "source": [
        "import numpy as np\n",
        "np.__version__"
      ]
    },
    {
      "cell_type": "markdown",
      "source": [
        "1. Створити матрицю 3*3, заповнити її цілими випадковими числами від 1 до 5"
      ],
      "metadata": {
        "id": "8JY1ejnrcYXj"
      }
    },
    {
      "cell_type": "code",
      "source": [
        "matrix = np.random.randint(1, 6, size=(3, 3))\n",
        "matrix"
      ],
      "metadata": {
        "colab": {
          "base_uri": "https://localhost:8080/",
          "height": 0
        },
        "id": "zA1gBUo8cnhC",
        "outputId": "b170cebb-c891-4073-a64f-65e7de48c21d"
      },
      "execution_count": 2,
      "outputs": [
        {
          "output_type": "execute_result",
          "data": {
            "text/plain": [
              "array([[1, 4, 2],\n",
              "       [5, 4, 5],\n",
              "       [2, 4, 5]])"
            ]
          },
          "metadata": {},
          "execution_count": 2
        }
      ]
    },
    {
      "cell_type": "markdown",
      "source": [
        "2. Обчислити визначник матриці"
      ],
      "metadata": {
        "id": "_bOCA4bBc_Ya"
      }
    },
    {
      "cell_type": "code",
      "source": [
        "det = np.linalg.det(matrix)\n",
        "det"
      ],
      "metadata": {
        "colab": {
          "base_uri": "https://localhost:8080/",
          "height": 0
        },
        "id": "CCSb6nBzdGoR",
        "outputId": "033929e8-cc02-4a8d-e7bd-66e0beb325a8"
      },
      "execution_count": 3,
      "outputs": [
        {
          "output_type": "execute_result",
          "data": {
            "text/plain": [
              "np.float64(-36.0)"
            ]
          },
          "metadata": {},
          "execution_count": 3
        }
      ]
    },
    {
      "cell_type": "markdown",
      "source": [
        "3. Знайти добуток всіх елементів матриці"
      ],
      "metadata": {
        "id": "X8NOHWvJd78f"
      }
    },
    {
      "cell_type": "code",
      "source": [
        "product = np.prod(matrix)\n",
        "product"
      ],
      "metadata": {
        "colab": {
          "base_uri": "https://localhost:8080/",
          "height": 0
        },
        "id": "uGrHCuEbeBs5",
        "outputId": "1f18ec87-c268-47e5-9bc0-69a0a8f84b8e"
      },
      "execution_count": 4,
      "outputs": [
        {
          "output_type": "execute_result",
          "data": {
            "text/plain": [
              "np.int64(32000)"
            ]
          },
          "metadata": {},
          "execution_count": 4
        }
      ]
    },
    {
      "cell_type": "code",
      "source": [
        "prod_1 = np.prod(matrix[0])\n",
        "prod_2 = np.prod(matrix[1])\n",
        "prod_3 = np.prod(matrix[2])\n",
        "prod_1*prod_2*prod_3"
      ],
      "metadata": {
        "colab": {
          "base_uri": "https://localhost:8080/",
          "height": 0
        },
        "id": "bHXaIWtPeSvw",
        "outputId": "19019091-302b-48ae-a562-0b2e3b96274f"
      },
      "execution_count": 5,
      "outputs": [
        {
          "output_type": "execute_result",
          "data": {
            "text/plain": [
              "np.int64(32000)"
            ]
          },
          "metadata": {},
          "execution_count": 5
        }
      ]
    },
    {
      "cell_type": "markdown",
      "source": [
        "4. Знайти суму всіх елементів матриці"
      ],
      "metadata": {
        "id": "Q26xWjRdeP4Y"
      }
    },
    {
      "cell_type": "code",
      "source": [
        "sum = np.sum(matrix)\n",
        "sum"
      ],
      "metadata": {
        "colab": {
          "base_uri": "https://localhost:8080/",
          "height": 0
        },
        "id": "EVe_De_OfpUo",
        "outputId": "6cb2c3b6-3046-46b9-cbaa-290f69fd667b"
      },
      "execution_count": 6,
      "outputs": [
        {
          "output_type": "execute_result",
          "data": {
            "text/plain": [
              "np.int64(32)"
            ]
          },
          "metadata": {},
          "execution_count": 6
        }
      ]
    },
    {
      "cell_type": "markdown",
      "source": [
        "5. Обчислити найбільший, найменший елемент матриці"
      ],
      "metadata": {
        "id": "uHK6YHhDf6hs"
      }
    },
    {
      "cell_type": "code",
      "source": [
        "max_element = np.max(matrix)\n",
        "print(\"Найбільший елемент матриці:\", max_element)\n",
        "\n",
        "min_element = np.min(matrix)\n",
        "print(\"Найменший елемент матриці:\", min_element)"
      ],
      "metadata": {
        "colab": {
          "base_uri": "https://localhost:8080/",
          "height": 0
        },
        "id": "0fKVjWrxgAPa",
        "outputId": "290d63d1-5d46-4fd2-9b31-d3abf81c60dc"
      },
      "execution_count": 7,
      "outputs": [
        {
          "output_type": "stream",
          "name": "stdout",
          "text": [
            "Найбільший елемент матриці: 5\n",
            "Найменший елемент матриці: 1\n"
          ]
        }
      ]
    },
    {
      "cell_type": "markdown",
      "source": [
        "6. Знайти середнє значення елементів матриці"
      ],
      "metadata": {
        "id": "ClrFbZiHgokF"
      }
    },
    {
      "cell_type": "code",
      "source": [
        "mean = np.mean(matrix)\n",
        "print(\"Середнє значення елементів матриці: \", mean)"
      ],
      "metadata": {
        "colab": {
          "base_uri": "https://localhost:8080/",
          "height": 0
        },
        "id": "pUb5KJrTgtI7",
        "outputId": "312b299b-9368-469c-80b9-038453983deb"
      },
      "execution_count": 8,
      "outputs": [
        {
          "output_type": "stream",
          "name": "stdout",
          "text": [
            "Середнє значення елементів матриці:  3.5555555555555554\n"
          ]
        }
      ]
    },
    {
      "cell_type": "markdown",
      "source": [
        "7. Знайти матрицю, що складена з квадратних коренів"
      ],
      "metadata": {
        "id": "u9v_MzcHhKW8"
      }
    },
    {
      "cell_type": "code",
      "source": [
        "sqrt_matrix = np.sqrt(matrix)\n",
        "print(\"Матриця квадратних коренів: \")\n",
        "print(sqrt_matrix)"
      ],
      "metadata": {
        "colab": {
          "base_uri": "https://localhost:8080/",
          "height": 0
        },
        "id": "jvJEy_M2hRt-",
        "outputId": "e3cf3af9-523c-463c-ae32-a9f72f1ad827"
      },
      "execution_count": 9,
      "outputs": [
        {
          "output_type": "stream",
          "name": "stdout",
          "text": [
            "Матриця квадратних коренів: \n",
            "[[1.         2.         1.41421356]\n",
            " [2.23606798 2.         2.23606798]\n",
            " [1.41421356 2.         2.23606798]]\n"
          ]
        }
      ]
    },
    {
      "cell_type": "markdown",
      "source": [
        "8. Обчислити суму елементів кожного рядка. Відповідь записати як вектор-стовпчик"
      ],
      "metadata": {
        "id": "vdvnEFg9hmtX"
      }
    },
    {
      "cell_type": "code",
      "source": [
        "row_sums = np.sum(matrix, axis=1).reshape(-1, 1)\n",
        "print(\"Сума елементів кожного рядка: \")\n",
        "print(row_sums)"
      ],
      "metadata": {
        "colab": {
          "base_uri": "https://localhost:8080/",
          "height": 0
        },
        "id": "TwQZiUF5htn7",
        "outputId": "2b272de8-800e-4125-93ed-a685a1ab98f2"
      },
      "execution_count": 10,
      "outputs": [
        {
          "output_type": "stream",
          "name": "stdout",
          "text": [
            "Сума елементів кожного рядка: \n",
            "[[ 7]\n",
            " [14]\n",
            " [11]]\n"
          ]
        }
      ]
    },
    {
      "cell_type": "markdown",
      "source": [
        "9. Створити вектор, що містить 25 елементів. Заповнити числами від 0 до 9. Відсортувати числа за спаданням."
      ],
      "metadata": {
        "id": "HH2E3cIwiVuY"
      }
    },
    {
      "cell_type": "code",
      "source": [
        "vector = np.random.randint(0, 10, size=25)\n",
        "print(\"Початковий вектор:\")\n",
        "print(vector)\n",
        "\n",
        "#Сортуємо числа за спаданням\n",
        "sorted_vector = np.sort(vector)[::-1]\n",
        "print(\"Вектор після сортування за спаданням:\")\n",
        "print(sorted_vector)"
      ],
      "metadata": {
        "colab": {
          "base_uri": "https://localhost:8080/",
          "height": 0
        },
        "id": "TWKlViszimHP",
        "outputId": "6ec66ad7-b341-4cf6-c27e-e1d747d5f58f"
      },
      "execution_count": 15,
      "outputs": [
        {
          "output_type": "stream",
          "name": "stdout",
          "text": [
            "Початковий вектор:\n",
            "[9 5 8 0 2 3 4 5 8 0 6 4 1 8 4 9 3 5 9 4 7 7 1 7 1]\n",
            "Вектор після сортування за спаданням:\n",
            "[9 9 9 8 8 8 7 7 7 6 5 5 5 4 4 4 4 3 3 2 1 1 1 0 0]\n"
          ]
        }
      ]
    },
    {
      "cell_type": "markdown",
      "source": [
        "10. Знайти моду, медіану, середнє, максимальне, мінімальне значення"
      ],
      "metadata": {
        "id": "f3AGSOqBkImv"
      }
    },
    {
      "cell_type": "code",
      "source": [
        "from scipy import stats\n",
        "#Знаходимо моду\n",
        "mode = stats.mode(vector)\n",
        "\n",
        "#Знаходимо медіану\n",
        "median = np.median(vector)\n",
        "\n",
        "#Знаходимо середнє\n",
        "mean = np.mean(vector)\n",
        "\n",
        "#Знаходимо максимальне значення\n",
        "max_value = np.max(vector)\n",
        "\n",
        "#Знаходимо мінімальне значення\n",
        "min_value = np.min(vector)\n",
        "\n",
        "print(\"Мода: \", mode)\n",
        "print(\"Медіана: \", median)\n",
        "print(\"Cереднє: \", mean)\n",
        "print(\"Максимальне значення: \", max_value)\n",
        "print(\"Мінімальне значення: \", min_value)"
      ],
      "metadata": {
        "colab": {
          "base_uri": "https://localhost:8080/",
          "height": 0
        },
        "id": "iLe4CIoTkS9R",
        "outputId": "9340dc76-3046-4d89-906e-de427e1cbba0"
      },
      "execution_count": 16,
      "outputs": [
        {
          "output_type": "stream",
          "name": "stdout",
          "text": [
            "Мода:  ModeResult(mode=np.int64(4), count=np.int64(4))\n",
            "Медіана:  5.0\n",
            "Cереднє:  4.8\n",
            "Максимальне значення:  9\n",
            "Мінімальне значення:  0\n"
          ]
        }
      ]
    },
    {
      "cell_type": "markdown",
      "source": [
        "11. Створити дві матриці 4*4, заповнені числами від 0 до 10. Обчислити суму, різницю, поелементний добуток, частку."
      ],
      "metadata": {
        "id": "TmsOXIpymqkA"
      }
    },
    {
      "cell_type": "code",
      "source": [
        "#Створюємо дві матриці 4*4 із випадкових цілих чисел від 1 до 10\n",
        "matrix1 = np.random.randint(1, 11, size=(4, 4))\n",
        "matrix2 = np.random.randint(1, 11, size=(4, 4))\n",
        "\n",
        "print(\"Матриця 1:\")\n",
        "print(matrix1)\n",
        "\n",
        "print(\"\\nМатриця 2:\")\n",
        "print(matrix2)"
      ],
      "metadata": {
        "colab": {
          "base_uri": "https://localhost:8080/",
          "height": 0
        },
        "id": "ILnGuSiGlHSg",
        "outputId": "90dfe69d-66bc-40b5-cb06-35155d26d87a"
      },
      "execution_count": 17,
      "outputs": [
        {
          "output_type": "stream",
          "name": "stdout",
          "text": [
            "Матриця 1:\n",
            "[[10  1  6  8]\n",
            " [ 6  4  2  3]\n",
            " [ 8  8  4  7]\n",
            " [ 6  1  9  4]]\n",
            "\n",
            "Матриця 2:\n",
            "[[ 1  9  4  6]\n",
            " [ 6  1  5  5]\n",
            " [ 1 10  1  7]\n",
            " [ 6  7  1 10]]\n"
          ]
        }
      ]
    },
    {
      "cell_type": "code",
      "source": [
        "#Обчислюємо суму матриць\n",
        "matrix_sum = matrix1 + matrix2\n",
        "\n",
        "#Обчислюємо різницю матриць\n",
        "matrix_diff = matrix1 - matrix2\n",
        "\n",
        "#Обчислюємо поелементний добуток матриць\n",
        "matrix_product = matrix1 * matrix2\n",
        "\n",
        "#Обчислюємо поелементну частку матриць\n",
        "#Для запобігання ділення на нуль, використовуємо np.divide з параметром where\n",
        "matrix_division = np.divide(matrix1, matrix2, where=(matrix2!=0))\n",
        "\n",
        "print(\"\\nСума матриць:\")\n",
        "print(matrix_sum)\n",
        "print(\"\\nРізниця матриць:\")\n",
        "print(matrix_diff)\n",
        "print(\"\\nПоелементний добуток матриць:\")\n",
        "print(matrix_product)\n",
        "print(\"\\nПоелементна частка матриць:\")\n",
        "print(matrix_division)"
      ],
      "metadata": {
        "colab": {
          "base_uri": "https://localhost:8080/",
          "height": 0
        },
        "id": "eG08hbiyktsk",
        "outputId": "bf7516d3-f9a5-43eb-a555-97e5a19150f3"
      },
      "execution_count": 18,
      "outputs": [
        {
          "output_type": "stream",
          "name": "stdout",
          "text": [
            "\n",
            "Сума матриць:\n",
            "[[11 10 10 14]\n",
            " [12  5  7  8]\n",
            " [ 9 18  5 14]\n",
            " [12  8 10 14]]\n",
            "\n",
            "Різниця матриць:\n",
            "[[ 9 -8  2  2]\n",
            " [ 0  3 -3 -2]\n",
            " [ 7 -2  3  0]\n",
            " [ 0 -6  8 -6]]\n",
            "\n",
            "Поелементний добуток матриць:\n",
            "[[10  9 24 48]\n",
            " [36  4 10 15]\n",
            " [ 8 80  4 49]\n",
            " [36  7  9 40]]\n",
            "\n",
            "Поелементна частка матриць:\n",
            "[[10.          0.11111111  1.5         1.33333333]\n",
            " [ 1.          4.          0.4         0.6       ]\n",
            " [ 8.          0.8         4.          1.        ]\n",
            " [ 1.          0.14285714  9.          0.4       ]]\n"
          ]
        }
      ]
    },
    {
      "cell_type": "markdown",
      "source": [
        "12. Задати вектор-рядок, що містить дійні числа 1.0-8.0. Зробити матрицю 3*3. помножити на вектор-рядок, що містить числа 0.0-2.0"
      ],
      "metadata": {
        "id": "9mGCfiWtpWrG"
      }
    },
    {
      "cell_type": "code",
      "source": [
        "x = np.arange(9.0)\n",
        "x"
      ],
      "metadata": {
        "colab": {
          "base_uri": "https://localhost:8080/"
        },
        "id": "7mJ-AAeOprNP",
        "outputId": "a7e49814-fb6a-470b-bf59-a367e1d6cff6"
      },
      "execution_count": 19,
      "outputs": [
        {
          "output_type": "execute_result",
          "data": {
            "text/plain": [
              "array([0., 1., 2., 3., 4., 5., 6., 7., 8.])"
            ]
          },
          "metadata": {},
          "execution_count": 19
        }
      ]
    },
    {
      "cell_type": "code",
      "source": [
        "x1 = x.reshape((3, 3))\n",
        "x1"
      ],
      "metadata": {
        "colab": {
          "base_uri": "https://localhost:8080/"
        },
        "id": "2X4VVGaep3FJ",
        "outputId": "f16d3cc9-39b5-4fac-bf1b-9f937907cca3"
      },
      "execution_count": 20,
      "outputs": [
        {
          "output_type": "execute_result",
          "data": {
            "text/plain": [
              "array([[0., 1., 2.],\n",
              "       [3., 4., 5.],\n",
              "       [6., 7., 8.]])"
            ]
          },
          "metadata": {},
          "execution_count": 20
        }
      ]
    },
    {
      "cell_type": "code",
      "source": [
        "x2 = np.arange(3.0)\n",
        "x2"
      ],
      "metadata": {
        "colab": {
          "base_uri": "https://localhost:8080/"
        },
        "id": "FfgocorgqO_f",
        "outputId": "edc3553c-0da3-4407-dc75-5d749e7e1ae7"
      },
      "execution_count": 21,
      "outputs": [
        {
          "output_type": "execute_result",
          "data": {
            "text/plain": [
              "array([0., 1., 2.])"
            ]
          },
          "metadata": {},
          "execution_count": 21
        }
      ]
    },
    {
      "cell_type": "code",
      "source": [
        "np.multiply(x1, x2)"
      ],
      "metadata": {
        "colab": {
          "base_uri": "https://localhost:8080/"
        },
        "id": "XzH44AbGqVrz",
        "outputId": "519ee9c4-72bd-4bfc-f027-73680e76e194"
      },
      "execution_count": 22,
      "outputs": [
        {
          "output_type": "execute_result",
          "data": {
            "text/plain": [
              "array([[ 0.,  1.,  4.],\n",
              "       [ 0.,  4., 10.],\n",
              "       [ 0.,  7., 16.]])"
            ]
          },
          "metadata": {},
          "execution_count": 22
        }
      ]
    }
  ]
}